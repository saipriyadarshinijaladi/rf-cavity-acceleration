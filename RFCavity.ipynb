{
  "nbformat": 4,
  "nbformat_minor": 0,
  "metadata": {
    "colab": {
      "provenance": []
    },
    "kernelspec": {
      "name": "python3",
      "display_name": "Python 3"
    },
    "language_info": {
      "name": "python"
    }
  },
  "cells": [
    {
      "cell_type": "code",
      "execution_count": null,
      "metadata": {
        "id": "d8h0vUkfC6hc"
      },
      "outputs": [],
      "source": [
        "#Import Libraries\n",
        "import numpy as np\n",
        "import matplotlib.pyplot as plt\n",
        "import matplotlib.animation as animation\n",
        "from IPython.display import HTML"
      ]
    },
    {
      "cell_type": "code",
      "source": [
        "#Set Params for Simulation\n",
        "# Physical constants\n",
        "c = 3e8  # Speed of light in m/s\n",
        "\n",
        "# Cavity parameters\n",
        "L = 1.0  # Length of the cavity in meters\n",
        "f = 500e6  # Frequency in Hz (500 MHz typical for RF cavities)\n",
        "wavelength = c / f\n",
        "k = 2 * np.pi / wavelength  # Wavenumber\n",
        "omega = 2 * np.pi * f  # Angular frequency\n",
        "\n",
        "# Space and time grids\n",
        "x = np.linspace(0, L, 200)\n",
        "t = np.linspace(0, 1e-8, 200)  # 10 ns span"
      ],
      "metadata": {
        "id": "GeYnvp_8DTbF"
      },
      "execution_count": null,
      "outputs": []
    },
    {
      "cell_type": "code",
      "source": [
        "# Generate the field animation\n",
        "fig, ax = plt.subplots()\n",
        "line, = ax.plot(x, np.zeros_like(x), lw=2)\n",
        "ax.set_ylim(-2, 2)\n",
        "ax.set_title(\"Standing Wave in a Resonant Cavity\")\n",
        "ax.set_xlabel(\"Position (m)\")\n",
        "ax.set_ylabel(\"Electric Field (arb. units)\")\n",
        "\n",
        "def update(i):\n",
        "    E = np.sin(k * x) * np.cos(omega * t[i])  # Standing wave formula\n",
        "    line.set_ydata(E)\n",
        "    return line,\n",
        "\n",
        "ani = animation.FuncAnimation(fig, update, frames=len(t), blit=True)\n",
        "HTML(ani.to_jshtml())"
      ],
      "metadata": {
        "id": "rSOQMZfODog-"
      },
      "execution_count": null,
      "outputs": []
    },
    {
      "cell_type": "code",
      "source": [
        "#Electric Field Amplitude Vs Frequency\n",
        "frequencies = np.linspace(400e6, 600e6, 200)\n",
        "amplitudes = []\n",
        "\n",
        "for f_test in frequencies:\n",
        "    omega = 2 * np.pi * f_test\n",
        "    E = np.sin(k * x) * np.cos(omega * 1e-9)\n",
        "    amplitudes.append(np.max(np.abs(E)))\n",
        "\n",
        "plt.figure(figsize=(8,4))\n",
        "plt.plot(frequencies/1e6, amplitudes)\n",
        "plt.title(\"Electric Field Amplitude vs Frequency\")\n",
        "plt.xlabel(\"Frequency (MHz)\")\n",
        "plt.ylabel(\"Max E-field Amplitude\")\n",
        "plt.grid(True)\n",
        "plt.show()\n"
      ],
      "metadata": {
        "id": "5l_e-hJZsfi5"
      },
      "execution_count": null,
      "outputs": []
    },
    {
      "cell_type": "code",
      "source": [
        "#Modes"
      ],
      "metadata": {
        "id": "ZDwz5UfPtF6b"
      },
      "execution_count": null,
      "outputs": []
    },
    {
      "cell_type": "code",
      "source": [
        "!pip install ipywidgets"
      ],
      "metadata": {
        "id": "SfjRiVERtHzk"
      },
      "execution_count": null,
      "outputs": []
    },
    {
      "cell_type": "code",
      "source": [
        "#Modes of EM Wave\n",
        "import numpy as np\n",
        "import matplotlib.pyplot as plt\n",
        "from ipywidgets import interact, IntSlider\n",
        "from IPython.display import display\n",
        "\n",
        "# Constants\n",
        "c = 3e8  # Speed of light\n",
        "L = 1.0  # Cavity length in meters\n",
        "x = np.linspace(0, L, 1000)\n",
        "\n",
        "def plot_mode(n):\n",
        "    f = n * c / (2 * L)\n",
        "    wavelength = c / f\n",
        "    E = np.sin(n * np.pi * x / L)\n",
        "\n",
        "    plt.figure(figsize=(10, 4))\n",
        "    plt.plot(x, E, color='blue', linewidth=2)\n",
        "    plt.title(f\"Mode {n} | Frequency: {f/1e6:.1f} MHz\")\n",
        "    plt.xlabel(\"Cavity Length (m)\")\n",
        "    plt.ylabel(\"Electric Field (arb. units)\")\n",
        "    plt.grid(True)\n",
        "\n",
        "    # Annotate nodes\n",
        "    for i in range(1, n):\n",
        "        node_pos = i * L / n\n",
        "        plt.axvline(x=node_pos, color='red', linestyle='--', alpha=0.4)\n",
        "        plt.text(node_pos, 0.1, f\"Node\", color='red', ha='center', fontsize=8)\n",
        "\n",
        "    plt.ylim(-1.2, 1.2)\n",
        "    plt.show()\n",
        "\n",
        "# Interactive slider for mode number\n",
        "interact(plot_mode, n=IntSlider(min=1, max=10, step=1, value=1))\n"
      ],
      "metadata": {
        "id": "SHdyn-CWtMKt"
      },
      "execution_count": null,
      "outputs": []
    },
    {
      "cell_type": "code",
      "source": [
        "#Simulate a charged particle entering an RF cavity and getting accelerated by the oscillating electric field."
      ],
      "metadata": {
        "id": "jCgqx3LzxCTz"
      },
      "execution_count": null,
      "outputs": []
    },
    {
      "cell_type": "code",
      "source": [
        "#Oscillating Electric Field\n",
        "import numpy as np\n",
        "import matplotlib.pyplot as plt\n",
        "import matplotlib.animation as animation\n",
        "from IPython.display import HTML\n",
        "\n",
        "# Physical constants\n",
        "c = 3e8  # speed of light (m/s)\n",
        "L = 1.0  # cavity length (m)\n",
        "f = 500e6  # 500 MHz\n",
        "wavelength = c / f\n",
        "k = 2 * np.pi / wavelength\n",
        "omega = 2 * np.pi * f\n",
        "\n",
        "# Simulation grid\n",
        "x = np.linspace(0, L, 500)\n",
        "t = np.linspace(0, 2e-9, 200)  # simulate for 2 ns\n",
        "\n",
        "# Initialize plot\n",
        "fig, ax = plt.subplots()\n",
        "line, = ax.plot([], [], lw=2)\n",
        "ax.set_xlim(0, L)\n",
        "ax.set_ylim(-1.2, 1.2)\n",
        "ax.set_xlabel(\"Position (m)\")\n",
        "ax.set_ylabel(\"Electric Field (arb. units)\")\n",
        "ax.set_title(\"Oscillating E-Field in RF Cavity\")\n",
        "\n",
        "# Animation update function\n",
        "def update(i):\n",
        "    E = np.sin(k * x) * np.cos(omega * t[i])\n",
        "    line.set_data(x, E)\n",
        "    return line,\n",
        "\n",
        "ani = animation.FuncAnimation(fig, update, frames=len(t), interval=20, blit=True)\n",
        "HTML(ani.to_jshtml())\n"
      ],
      "metadata": {
        "id": "Fuil2q1CxEIg"
      },
      "execution_count": null,
      "outputs": []
    },
    {
      "cell_type": "code",
      "source": [
        "# Particle properties\n",
        "q = 1.6e-19   # charge (Coulombs)\n",
        "m = 9.11e-31  # mass of electron (kg)\n",
        "v0 = 1e6      # initial velocity (m/s)\n",
        "\n",
        "# Time setup\n",
        "dt = t[1] - t[0]  # time step\n",
        "position = [0.0]  # starting at x = 0\n",
        "velocity = [v0]\n",
        "\n",
        "# Particle simulation loop\n",
        "for i in range(1, len(t)):\n",
        "    x_p = position[-1]\n",
        "\n",
        "    if x_p >= L:\n",
        "        # Stop tracking after particle exits cavity\n",
        "        position.append(x_p)\n",
        "        velocity.append(velocity[-1])\n",
        "        continue\n",
        "\n",
        "    # Find closest E-field at particle's location\n",
        "    E = np.sin(k * x_p) * np.cos(omega * t[i])\n",
        "\n",
        "    # Newton's 2nd law: F = qE → a = qE/m\n",
        "    a = (q * E) / m\n",
        "    v_new = velocity[-1] + a * dt\n",
        "    x_new = x_p + v_new * dt\n",
        "\n",
        "    velocity.append(v_new)\n",
        "    position.append(x_new)\n"
      ],
      "metadata": {
        "id": "g5tYoYaqxmpW"
      },
      "execution_count": null,
      "outputs": []
    },
    {
      "cell_type": "code",
      "source": [
        "#Particle Position Vs Time Plot\n",
        "plt.figure(figsize=(10, 4))\n",
        "plt.plot(t * 1e9, position)\n",
        "plt.title(\"Particle Position vs Time\")\n",
        "plt.xlabel(\"Time (ns)\")\n",
        "plt.ylabel(\"Position (m)\")\n",
        "plt.grid(True)\n",
        "plt.axhline(L, linestyle='--', color='red', label='Cavity Exit')\n",
        "plt.legend()\n",
        "plt.show()\n"
      ],
      "metadata": {
        "id": "Vok7Mm-Ix-VY"
      },
      "execution_count": null,
      "outputs": []
    },
    {
      "cell_type": "code",
      "source": [
        "#Particle Acceleration in RF Cavity\n",
        "!apt-get install -y ffmpeg\n",
        "\n",
        "import numpy as np\n",
        "import matplotlib.pyplot as plt\n",
        "import matplotlib.animation as animation\n",
        "from IPython.display import HTML\n",
        "\n",
        "# Constants\n",
        "c = 3e8\n",
        "L = 1.0\n",
        "f = 500e6\n",
        "wavelength = c / f\n",
        "k = 2 * np.pi / wavelength\n",
        "omega = 2 * np.pi * f\n",
        "\n",
        "# Particle properties\n",
        "q = 1.6e-19\n",
        "m = 9.11e-31\n",
        "v0 = 5e7\n",
        "\n",
        "# Time setup\n",
        "t = np.linspace(0, 10e-9, 500)\n",
        "dt = t[1] - t[0]\n",
        "\n",
        "# Space grid\n",
        "x = np.linspace(0, L, 500)\n",
        "\n",
        "# Particle motion\n",
        "position = [0.01]\n",
        "velocity = [v0]\n",
        "\n",
        "for i in range(1, len(t)):\n",
        "    x_p = position[-1]\n",
        "    if x_p >= L:\n",
        "        position.append(x_p)\n",
        "        velocity.append(velocity[-1])\n",
        "        continue\n",
        "    E = np.sin(k * x_p) * np.cos(omega * t[i])\n",
        "    a = (q * E) / m\n",
        "    v_new = velocity[-1] + a * dt\n",
        "    x_new = x_p + v_new * dt\n",
        "    velocity.append(v_new)\n",
        "    position.append(x_new)\n",
        "\n",
        "# Normalize velocity for size control\n",
        "vel_min = min(velocity)\n",
        "vel_max = max(velocity)\n",
        "norm_velocity = [(v - vel_min) / (vel_max - vel_min) for v in velocity]\n",
        "\n",
        "# Set up plot\n",
        "fig, ax = plt.subplots(figsize=(10, 4))\n",
        "line_E, = ax.plot([], [], lw=2, label=\"E-field\")\n",
        "sc = ax.scatter([], [], s=[], c='red', label=\"Particle\", zorder=5)\n",
        "\n",
        "ax.set_xlim(0, L)\n",
        "ax.set_ylim(-1.2, 1.2)\n",
        "ax.set_xlabel(\"Position (m)\")\n",
        "ax.set_ylabel(\"Field / Particle\")\n",
        "ax.set_title(\"Particle Acceleration in RF Cavity (with Size = Speed)\")\n",
        "ax.legend()\n",
        "ax.grid(True)\n",
        "\n",
        "# Animation update\n",
        "def update(i):\n",
        "    E = np.sin(k * x) * np.cos(omega * t[i])\n",
        "    line_E.set_data(x, E)\n",
        "\n",
        "    if position[i] <= L:\n",
        "        size = 20 + 100 * norm_velocity[i]\n",
        "        sc.set_offsets([[position[i], 0]])\n",
        "        sc.set_sizes([size])\n",
        "    else:\n",
        "        sc.set_offsets([[np.nan, np.nan]])\n",
        "        sc.set_sizes([0])\n",
        "\n",
        "    return line_E, sc\n",
        "\n",
        "ani = animation.FuncAnimation(fig, update, frames=len(t), interval=20, blit=True)\n",
        "ani.save(\"rf_acceleration.mp4\", writer=\"ffmpeg\", fps=30)\n",
        "HTML(ani.to_jshtml())\n"
      ],
      "metadata": {
        "id": "emlckKR2zGrc"
      },
      "execution_count": null,
      "outputs": []
    },
    {
      "cell_type": "code",
      "source": [
        "#Particle Velocity Vs Time Plot\n",
        "plt.figure(figsize=(10, 4))\n",
        "plt.plot(t * 1e9, velocity)\n",
        "plt.title(\"Particle Velocity vs Time\")\n",
        "plt.xlabel(\"Time (ns)\")\n",
        "plt.ylabel(\"Velocity (m/s)\")\n",
        "plt.grid(True)\n",
        "plt.show()\n"
      ],
      "metadata": {
        "id": "Zg6-kSNaBERp"
      },
      "execution_count": null,
      "outputs": []
    },
    {
      "cell_type": "code",
      "source": [
        "!ffmpeg -i rf_acceleration.mp4 -vcodec libx264 -crf 30 compressed_rf_acceleration.mp4\n"
      ],
      "metadata": {
        "id": "pYlw2S5RBK0h"
      },
      "execution_count": null,
      "outputs": []
    }
  ]
}